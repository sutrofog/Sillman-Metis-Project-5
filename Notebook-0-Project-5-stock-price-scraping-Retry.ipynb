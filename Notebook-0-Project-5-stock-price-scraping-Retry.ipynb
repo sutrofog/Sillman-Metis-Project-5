{
 "cells": [
  {
   "cell_type": "markdown",
   "metadata": {},
   "source": [
    "Retry of getting stock ticker IPO dates after Excel ate my datafile. Also get ticker EOD data for the 20 stocks whose websites I scraped (3/15/21)"
   ]
  },
  {
   "cell_type": "code",
   "execution_count": 1,
   "metadata": {},
   "outputs": [],
   "source": [
    "from bs4 import BeautifulSoup\n",
    "import requests\n",
    "from requests import get\n",
    "\n",
    "from IPython.core.display import display, HTML"
   ]
  },
  {
   "cell_type": "code",
   "execution_count": 2,
   "metadata": {},
   "outputs": [],
   "source": [
    "from time import sleep\n",
    "import re\n",
    "from random import randint #avoid throttling by not sending too many requests one after the other\n",
    "from warnings import warn\n",
    "from time import time\n",
    "from IPython.core.display import clear_output\n",
    "import numpy as np\n",
    "import pandas as pd"
   ]
  },
  {
   "cell_type": "code",
   "execution_count": 61,
   "metadata": {},
   "outputs": [
    {
     "name": "stdout",
     "output_type": "stream",
     "text": [
      "Requirement already satisfied: tiingo in /Library/Frameworks/Python.framework/Versions/3.8/lib/python3.8/site-packages (0.13.0)\r\n",
      "Requirement already satisfied: requests in /Library/Frameworks/Python.framework/Versions/3.8/lib/python3.8/site-packages (from tiingo) (2.25.1)\r\n",
      "Requirement already satisfied: certifi>=2017.4.17 in /Library/Frameworks/Python.framework/Versions/3.8/lib/python3.8/site-packages (from requests->tiingo) (2020.12.5)\r\n",
      "Requirement already satisfied: urllib3<1.27,>=1.21.1 in /Library/Frameworks/Python.framework/Versions/3.8/lib/python3.8/site-packages (from requests->tiingo) (1.26.3)\r\n",
      "Requirement already satisfied: chardet<5,>=3.0.2 in /Library/Frameworks/Python.framework/Versions/3.8/lib/python3.8/site-packages (from requests->tiingo) (4.0.0)\r\n",
      "Requirement already satisfied: idna<3,>=2.5 in /Library/Frameworks/Python.framework/Versions/3.8/lib/python3.8/site-packages (from requests->tiingo) (2.10)\r\n"
     ]
    }
   ],
   "source": [
    "!pip install tiingo"
   ]
  },
  {
   "cell_type": "code",
   "execution_count": 4,
   "metadata": {},
   "outputs": [],
   "source": [
    "import sys\n",
    "sys.path.append(\"/Library/Frameworks/Python.framework/Versions/3.8/lib/python3.8/site-packages\")"
   ]
  },
  {
   "cell_type": "code",
   "execution_count": 5,
   "metadata": {},
   "outputs": [],
   "source": [
    "from tiingo import TiingoClient"
   ]
  },
  {
   "cell_type": "code",
   "execution_count": 6,
   "metadata": {},
   "outputs": [],
   "source": [
    "config = {}\n",
    "# To reuse the same HTTP Session across API calls (and have better performance), include a session key.\n",
    "config['session'] = True\n",
    "\n",
    "### You will need to get an API key from  https://api.tiingo.com\n",
    "### The API key is free and includes a max number of requests per hour and day, and data transfer.\n",
    "### Paid account will give more requests and data transfer.\n",
    "\n",
    "# If you don't have your API key as an environment variable,\n",
    "# pass it in via a configuration dictionary.\n",
    "config['api_key'] = \"307d0cd85ac1760c0dc887e433b4673cc352d8a1\"\n",
    "#Initialize\n",
    "client = TiingoClient(config)"
   ]
  },
  {
   "cell_type": "code",
   "execution_count": 116,
   "metadata": {},
   "outputs": [],
   "source": [
    "import sys\n",
    "sys.path.append(\"/Library/Frameworks/Python.framework/Versions/3.8/lib/python3.8/site-packages\")"
   ]
  },
  {
   "cell_type": "code",
   "execution_count": 58,
   "metadata": {},
   "outputs": [
    {
     "name": "stdout",
     "output_type": "stream",
     "text": [
      "Requirement already satisfied: pandas-datareader in /Library/Frameworks/Python.framework/Versions/3.8/lib/python3.8/site-packages (0.9.0)\n",
      "Requirement already satisfied: pandas>=0.23 in /Library/Frameworks/Python.framework/Versions/3.8/lib/python3.8/site-packages (from pandas-datareader) (1.2.3)\n",
      "Requirement already satisfied: lxml in /Library/Frameworks/Python.framework/Versions/3.8/lib/python3.8/site-packages (from pandas-datareader) (4.6.2)\n",
      "Requirement already satisfied: requests>=2.19.0 in /Library/Frameworks/Python.framework/Versions/3.8/lib/python3.8/site-packages (from pandas-datareader) (2.25.1)\n",
      "Requirement already satisfied: python-dateutil>=2.7.3 in /Library/Frameworks/Python.framework/Versions/3.8/lib/python3.8/site-packages (from pandas>=0.23->pandas-datareader) (2.8.1)\n",
      "Requirement already satisfied: pytz>=2017.3 in /Library/Frameworks/Python.framework/Versions/3.8/lib/python3.8/site-packages (from pandas>=0.23->pandas-datareader) (2021.1)\n",
      "Requirement already satisfied: numpy>=1.16.5 in /Library/Frameworks/Python.framework/Versions/3.8/lib/python3.8/site-packages (from pandas>=0.23->pandas-datareader) (1.20.0)\n",
      "Requirement already satisfied: six>=1.5 in /Library/Frameworks/Python.framework/Versions/3.8/lib/python3.8/site-packages (from python-dateutil>=2.7.3->pandas>=0.23->pandas-datareader) (1.15.0)\n",
      "Requirement already satisfied: certifi>=2017.4.17 in /Library/Frameworks/Python.framework/Versions/3.8/lib/python3.8/site-packages (from requests>=2.19.0->pandas-datareader) (2020.12.5)\n",
      "Requirement already satisfied: chardet<5,>=3.0.2 in /Library/Frameworks/Python.framework/Versions/3.8/lib/python3.8/site-packages (from requests>=2.19.0->pandas-datareader) (4.0.0)\n",
      "Requirement already satisfied: urllib3<1.27,>=1.21.1 in /Library/Frameworks/Python.framework/Versions/3.8/lib/python3.8/site-packages (from requests>=2.19.0->pandas-datareader) (1.26.3)\n",
      "Requirement already satisfied: idna<3,>=2.5 in /Library/Frameworks/Python.framework/Versions/3.8/lib/python3.8/site-packages (from requests>=2.19.0->pandas-datareader) (2.10)\n"
     ]
    }
   ],
   "source": [
    "!pip install pandas-datareader"
   ]
  },
  {
   "cell_type": "code",
   "execution_count": 7,
   "metadata": {},
   "outputs": [],
   "source": [
    "import os\n",
    "import pandas_datareader as pdr"
   ]
  },
  {
   "cell_type": "code",
   "execution_count": 14,
   "metadata": {
    "scrolled": true
   },
   "outputs": [
    {
     "name": "stdout",
     "output_type": "stream",
     "text": [
      "<class 'pandas.core.frame.DataFrame'>\n",
      "RangeIndex: 240 entries, 0 to 239\n",
      "Data columns (total 11 columns):\n",
      " #   Column      Non-Null Count  Dtype  \n",
      "---  ------      --------------  -----  \n",
      " 0   Symbol      240 non-null    object \n",
      " 1   Name        240 non-null    object \n",
      " 2   Last Sale   240 non-null    object \n",
      " 3   Net Change  240 non-null    float64\n",
      " 4   % Change    240 non-null    object \n",
      " 5   Market Cap  240 non-null    int64  \n",
      " 6   Country     240 non-null    object \n",
      " 7   IPO Year    0 non-null      float64\n",
      " 8   Volume      240 non-null    int64  \n",
      " 9   Sector      240 non-null    object \n",
      " 10  Industry    240 non-null    object \n",
      "dtypes: float64(2), int64(2), object(7)\n",
      "memory usage: 20.8+ KB\n"
     ]
    }
   ],
   "source": [
    "companies_no_ipo_date = pd.read_csv(\"nasdaq_no_ipo_date.csv\")\n",
    "companies.info()"
   ]
  },
  {
   "cell_type": "code",
   "execution_count": 15,
   "metadata": {},
   "outputs": [],
   "source": [
    "#stock_tickers = companies.Symbol.values.tolist()\n",
    "#print(stock_tickers[5])\n",
    "#type(stock_tickers[5])"
   ]
  },
  {
   "cell_type": "code",
   "execution_count": 16,
   "metadata": {},
   "outputs": [],
   "source": [
    "#no_ipo_date_companies = pd.read_csv(\"nasdaq_all_pharma_wo_ipo_date.csv\")\n",
    "#no_ipo_date_companies.info()"
   ]
  },
  {
   "cell_type": "code",
   "execution_count": 17,
   "metadata": {},
   "outputs": [
    {
     "name": "stdout",
     "output_type": "stream",
     "text": [
      "['ABEO', 'ABIO', 'ABMD', 'ACER', 'ACHC']\n"
     ]
    }
   ],
   "source": [
    "no_ipo_date_symbols = companies_no_ipo_date.Symbol.values.tolist()\n",
    "print(no_ipo_date_symbols[0:5])\n",
    "#type(no_ipo_date_symbols[5])"
   ]
  },
  {
   "cell_type": "code",
   "execution_count": null,
   "metadata": {},
   "outputs": [],
   "source": []
  },
  {
   "cell_type": "code",
   "execution_count": 21,
   "metadata": {},
   "outputs": [
    {
     "data": {
      "text/html": [
       "<div>\n",
       "<style scoped>\n",
       "    .dataframe tbody tr th:only-of-type {\n",
       "        vertical-align: middle;\n",
       "    }\n",
       "\n",
       "    .dataframe tbody tr th {\n",
       "        vertical-align: top;\n",
       "    }\n",
       "\n",
       "    .dataframe thead th {\n",
       "        text-align: right;\n",
       "    }\n",
       "</style>\n",
       "<table border=\"1\" class=\"dataframe\">\n",
       "  <thead>\n",
       "    <tr style=\"text-align: right;\">\n",
       "      <th></th>\n",
       "      <th>endDate</th>\n",
       "      <th>exchangeCode</th>\n",
       "      <th>startDate</th>\n",
       "      <th>ticker</th>\n",
       "      <th>name</th>\n",
       "      <th>description</th>\n",
       "    </tr>\n",
       "  </thead>\n",
       "  <tbody>\n",
       "    <tr>\n",
       "      <th>0</th>\n",
       "      <td>2021-03-10</td>\n",
       "      <td>NASDAQ</td>\n",
       "      <td>1980-09-19</td>\n",
       "      <td>ABEO</td>\n",
       "      <td>Abeona Therapeutics Inc</td>\n",
       "      <td>ABEO</td>\n",
       "    </tr>\n",
       "    <tr>\n",
       "      <th>1</th>\n",
       "      <td>2021-03-10</td>\n",
       "      <td>NASDAQ</td>\n",
       "      <td>1997-08-08</td>\n",
       "      <td>ABIO</td>\n",
       "      <td>ARCA biopharma Inc</td>\n",
       "      <td>ARCA biopharma, Inc., a biopharmaceutical comp...</td>\n",
       "    </tr>\n",
       "    <tr>\n",
       "      <th>2</th>\n",
       "      <td>2021-03-10</td>\n",
       "      <td>NASDAQ</td>\n",
       "      <td>1987-07-30</td>\n",
       "      <td>ABMD</td>\n",
       "      <td>Abiomed Inc</td>\n",
       "      <td>Abiomed Europe GmbH, Aachen / Germany, as affi...</td>\n",
       "    </tr>\n",
       "    <tr>\n",
       "      <th>3</th>\n",
       "      <td>2021-03-10</td>\n",
       "      <td>NASDAQ</td>\n",
       "      <td>2017-09-22</td>\n",
       "      <td>ACER</td>\n",
       "      <td>Acer Therapeutics Inc</td>\n",
       "      <td>Acer is a pharmaceutical company focused on th...</td>\n",
       "    </tr>\n",
       "    <tr>\n",
       "      <th>4</th>\n",
       "      <td>2021-03-10</td>\n",
       "      <td>NASDAQ</td>\n",
       "      <td>1994-03-04</td>\n",
       "      <td>ACHC</td>\n",
       "      <td>Acadia Healthcare Company Inc</td>\n",
       "      <td>Acadia is a leading provider of behavioral hea...</td>\n",
       "    </tr>\n",
       "  </tbody>\n",
       "</table>\n",
       "</div>"
      ],
      "text/plain": [
       "      endDate exchangeCode   startDate ticker                           name  \\\n",
       "0  2021-03-10       NASDAQ  1980-09-19   ABEO        Abeona Therapeutics Inc   \n",
       "1  2021-03-10       NASDAQ  1997-08-08   ABIO             ARCA biopharma Inc   \n",
       "2  2021-03-10       NASDAQ  1987-07-30   ABMD                    Abiomed Inc   \n",
       "3  2021-03-10       NASDAQ  2017-09-22   ACER          Acer Therapeutics Inc   \n",
       "4  2021-03-10       NASDAQ  1994-03-04   ACHC  Acadia Healthcare Company Inc   \n",
       "\n",
       "                                         description  \n",
       "0                                               ABEO  \n",
       "1  ARCA biopharma, Inc., a biopharmaceutical comp...  \n",
       "2  Abiomed Europe GmbH, Aachen / Germany, as affi...  \n",
       "3  Acer is a pharmaceutical company focused on th...  \n",
       "4  Acadia is a leading provider of behavioral hea...  "
      ]
     },
     "execution_count": 21,
     "metadata": {},
     "output_type": "execute_result"
    }
   ],
   "source": [
    "#ticker_no_ipo_metadata = pdr.tiingo.TiingoMetaDataReader(no_ipo_date_symbols, pause=0.2, api_key='307d0cd85ac1760c0dc887e433b4673cc352d8a1') #['adjClose']\n",
    "#print(type(df_no_ipo_metadata))\n",
    "#pd.DataFrame.from_dict(ticker_no_ipo_metadata, orient='index')\n",
    "#df_no_ipo_metadata.to_csv('df_no_ipo_symbols_metadata.csv')\n",
    "#print(df_no_ipo_metadata)\n",
    "\n",
    "dict_list=[]\n",
    "for symbol in no_ipo_date_symbols:\n",
    "    dict_no_ipo_date=client.get_ticker_metadata(symbol)\n",
    "    dict_list.append(dict_no_ipo_date)\n",
    "df_symbol_no_ipo=pd.DataFrame(dict_list) \n",
    "df_symbol_no_ipo.head()"
   ]
  },
  {
   "cell_type": "code",
   "execution_count": 22,
   "metadata": {},
   "outputs": [],
   "source": [
    "df_symbol_no_ipo.to_csv('metadata_symbols_w_no_ipo_date.csv')"
   ]
  },
  {
   "cell_type": "code",
   "execution_count": null,
   "metadata": {},
   "outputs": [],
   "source": [
    "##Now have a csv file with metadata for all symbols that had no\n",
    "##IPO date listed. Need to edit in excel to delete companies with \n",
    "##IPOs after 2015. Then  join with the csv file containing the\n",
    "##tickers with IPO dates listed in the original data download."
   ]
  },
  {
   "cell_type": "code",
   "execution_count": 96,
   "metadata": {},
   "outputs": [
    {
     "data": {
      "text/html": [
       "<div>\n",
       "<style scoped>\n",
       "    .dataframe tbody tr th:only-of-type {\n",
       "        vertical-align: middle;\n",
       "    }\n",
       "\n",
       "    .dataframe tbody tr th {\n",
       "        vertical-align: top;\n",
       "    }\n",
       "\n",
       "    .dataframe thead th {\n",
       "        text-align: right;\n",
       "    }\n",
       "</style>\n",
       "<table border=\"1\" class=\"dataframe\">\n",
       "  <thead>\n",
       "    <tr style=\"text-align: right;\">\n",
       "      <th></th>\n",
       "      <th>0</th>\n",
       "    </tr>\n",
       "  </thead>\n",
       "  <tbody>\n",
       "    <tr>\n",
       "      <td>endDate</td>\n",
       "      <td>2021-03-05</td>\n",
       "    </tr>\n",
       "    <tr>\n",
       "      <td>exchangeCode</td>\n",
       "      <td>NASDAQ</td>\n",
       "    </tr>\n",
       "    <tr>\n",
       "      <td>startDate</td>\n",
       "      <td>2004-08-19</td>\n",
       "    </tr>\n",
       "    <tr>\n",
       "      <td>ticker</td>\n",
       "      <td>GOOGL</td>\n",
       "    </tr>\n",
       "    <tr>\n",
       "      <td>name</td>\n",
       "      <td>Alphabet Inc - Class A</td>\n",
       "    </tr>\n",
       "    <tr>\n",
       "      <td>description</td>\n",
       "      <td>Google Inc. (Google) is a global technology co...</td>\n",
       "    </tr>\n",
       "  </tbody>\n",
       "</table>\n",
       "</div>"
      ],
      "text/plain": [
       "                                                              0\n",
       "endDate                                              2021-03-05\n",
       "exchangeCode                                             NASDAQ\n",
       "startDate                                            2004-08-19\n",
       "ticker                                                    GOOGL\n",
       "name                                     Alphabet Inc - Class A\n",
       "description   Google Inc. (Google) is a global technology co..."
      ]
     },
     "execution_count": 96,
     "metadata": {},
     "output_type": "execute_result"
    }
   ],
   "source": [
    "#ticker_metadata = client.get_ticker_metadata(\"GOOGL\")\n",
    "#print(ticker_metadata)\n",
    "df_google=pd.DataFrame.from_dict(ticker_metadata, orient='index') \n",
    "df_google"
   ]
  },
  {
   "cell_type": "code",
   "execution_count": 116,
   "metadata": {},
   "outputs": [],
   "source": [
    "import datetime"
   ]
  },
  {
   "cell_type": "code",
   "execution_count": 131,
   "metadata": {},
   "outputs": [
    {
     "data": {
      "text/html": [
       "<div>\n",
       "<style scoped>\n",
       "    .dataframe tbody tr th:only-of-type {\n",
       "        vertical-align: middle;\n",
       "    }\n",
       "\n",
       "    .dataframe tbody tr th {\n",
       "        vertical-align: top;\n",
       "    }\n",
       "\n",
       "    .dataframe thead th {\n",
       "        text-align: right;\n",
       "    }\n",
       "</style>\n",
       "<table border=\"1\" class=\"dataframe\">\n",
       "  <thead>\n",
       "    <tr style=\"text-align: right;\">\n",
       "      <th></th>\n",
       "      <th>endDate</th>\n",
       "      <th>exchangeCode</th>\n",
       "      <th>startDate</th>\n",
       "      <th>ticker</th>\n",
       "      <th>name</th>\n",
       "      <th>description</th>\n",
       "    </tr>\n",
       "  </thead>\n",
       "  <tbody>\n",
       "    <tr>\n",
       "      <td>0</td>\n",
       "      <td>2021-03-05</td>\n",
       "      <td>NASDAQ</td>\n",
       "      <td>1980-09-19</td>\n",
       "      <td>ABEO</td>\n",
       "      <td>Abeona Therapeutics Inc</td>\n",
       "      <td>ABEO</td>\n",
       "    </tr>\n",
       "    <tr>\n",
       "      <td>1</td>\n",
       "      <td>2021-03-05</td>\n",
       "      <td>NASDAQ</td>\n",
       "      <td>1997-08-08</td>\n",
       "      <td>ABIO</td>\n",
       "      <td>ARCA biopharma Inc</td>\n",
       "      <td>ARCA biopharma, Inc., a biopharmaceutical comp...</td>\n",
       "    </tr>\n",
       "    <tr>\n",
       "      <td>2</td>\n",
       "      <td>2021-03-05</td>\n",
       "      <td>NASDAQ</td>\n",
       "      <td>1987-07-30</td>\n",
       "      <td>ABMD</td>\n",
       "      <td>Abiomed Inc</td>\n",
       "      <td>Abiomed Europe GmbH, Aachen / Germany, as affi...</td>\n",
       "    </tr>\n",
       "    <tr>\n",
       "      <td>3</td>\n",
       "      <td>2021-03-05</td>\n",
       "      <td>NASDAQ</td>\n",
       "      <td>2017-09-22</td>\n",
       "      <td>ACER</td>\n",
       "      <td>Acer Therapeutics Inc</td>\n",
       "      <td>Acer is a pharmaceutical company focused on th...</td>\n",
       "    </tr>\n",
       "    <tr>\n",
       "      <td>4</td>\n",
       "      <td>2021-03-05</td>\n",
       "      <td>NASDAQ</td>\n",
       "      <td>1994-03-04</td>\n",
       "      <td>ACHC</td>\n",
       "      <td>Acadia Healthcare Company Inc</td>\n",
       "      <td>Acadia is a leading provider of behavioral hea...</td>\n",
       "    </tr>\n",
       "  </tbody>\n",
       "</table>\n",
       "</div>"
      ],
      "text/plain": [
       "      endDate exchangeCode   startDate ticker                           name  \\\n",
       "0  2021-03-05       NASDAQ  1980-09-19   ABEO        Abeona Therapeutics Inc   \n",
       "1  2021-03-05       NASDAQ  1997-08-08   ABIO             ARCA biopharma Inc   \n",
       "2  2021-03-05       NASDAQ  1987-07-30   ABMD                    Abiomed Inc   \n",
       "3  2021-03-05       NASDAQ  2017-09-22   ACER          Acer Therapeutics Inc   \n",
       "4  2021-03-05       NASDAQ  1994-03-04   ACHC  Acadia Healthcare Company Inc   \n",
       "\n",
       "                                         description  \n",
       "0                                               ABEO  \n",
       "1  ARCA biopharma, Inc., a biopharmaceutical comp...  \n",
       "2  Abiomed Europe GmbH, Aachen / Germany, as affi...  \n",
       "3  Acer is a pharmaceutical company focused on th...  \n",
       "4  Acadia is a leading provider of behavioral hea...  "
      ]
     },
     "execution_count": 131,
     "metadata": {},
     "output_type": "execute_result"
    }
   ],
   "source": [
    "#dict_list=[]\n",
    "#for symbol in no_ipo_date_symbols:\n",
    " #   dict_no_ipo_date=client.get_ticker_metadata(symbol)\n",
    "  #  dict_list.append(dict_no_ipo_date)\n",
    "#df_symbol_no_ipo=pd.DataFrame(dict_list) \n",
    "#df_symbol_no_ipo.head()"
   ]
  },
  {
   "cell_type": "code",
   "execution_count": 132,
   "metadata": {},
   "outputs": [
    {
     "name": "stdout",
     "output_type": "stream",
     "text": [
      "<class 'pandas.core.frame.DataFrame'>\n",
      "RangeIndex: 309 entries, 0 to 308\n",
      "Data columns (total 6 columns):\n",
      "endDate         309 non-null object\n",
      "exchangeCode    309 non-null object\n",
      "startDate       309 non-null object\n",
      "ticker          309 non-null object\n",
      "name            307 non-null object\n",
      "description     309 non-null object\n",
      "dtypes: object(6)\n",
      "memory usage: 14.6+ KB\n"
     ]
    }
   ],
   "source": [
    "df_symbol_no_ipo.info()"
   ]
  },
  {
   "cell_type": "code",
   "execution_count": 133,
   "metadata": {},
   "outputs": [],
   "source": [
    "df_symbol_no_ipo.to_csv('metadata_symbols_w_no_ipo_date.csv')"
   ]
  },
  {
   "cell_type": "code",
   "execution_count": 27,
   "metadata": {},
   "outputs": [],
   "source": [
    "#Read in csv file w all existing biotech/pharma companies traded on \n",
    "#NASDAQ, with IPOs before 2016\n",
    "df_pre_2016_ipo_companies=pd.read_csv('nasdaq_pre_2016_ALL.csv')"
   ]
  },
  {
   "cell_type": "code",
   "execution_count": 28,
   "metadata": {},
   "outputs": [
    {
     "name": "stdout",
     "output_type": "stream",
     "text": [
      "<class 'pandas.core.frame.DataFrame'>\n",
      "RangeIndex: 392 entries, 0 to 391\n",
      "Data columns (total 11 columns):\n",
      " #   Column      Non-Null Count  Dtype  \n",
      "---  ------      --------------  -----  \n",
      " 0   Symbol      392 non-null    object \n",
      " 1   Name        392 non-null    object \n",
      " 2   Last Sale   392 non-null    object \n",
      " 3   Net Change  392 non-null    float64\n",
      " 4   % Change    392 non-null    object \n",
      " 5   Market Cap  392 non-null    float64\n",
      " 6   Country     392 non-null    object \n",
      " 7   IPO Year    392 non-null    object \n",
      " 8   Volume      392 non-null    int64  \n",
      " 9   Sector      392 non-null    object \n",
      " 10  Industry    392 non-null    object \n",
      "dtypes: float64(2), int64(1), object(8)\n",
      "memory usage: 33.8+ KB\n"
     ]
    }
   ],
   "source": [
    "df_pre_2016_ipo_companies.info()"
   ]
  },
  {
   "cell_type": "code",
   "execution_count": 29,
   "metadata": {},
   "outputs": [
    {
     "name": "stdout",
     "output_type": "stream",
     "text": [
      "['CSII', 'FONR', 'AMGN', 'HCSG', 'LAKE']\n"
     ]
    },
    {
     "data": {
      "text/plain": [
       "list"
      ]
     },
     "execution_count": 29,
     "metadata": {},
     "output_type": "execute_result"
    }
   ],
   "source": [
    "#Make a list of ticker symbols of all existing biotech/pharma companies traded on \n",
    "#NASDAQ, with IPOs before 2016\n",
    "pre_2016_ipo_symbols = df_pre_2016_ipo_companies.Symbol.values.tolist()\n",
    "print(pre_2016_ipo_symbols[0:5])\n",
    "type(pre_2016_ipo_symbols[5])\n",
    "type(pre_2016_ipo_symbols)"
   ]
  },
  {
   "cell_type": "code",
   "execution_count": 30,
   "metadata": {},
   "outputs": [
    {
     "data": {
      "text/html": [
       "<div>\n",
       "<style scoped>\n",
       "    .dataframe tbody tr th:only-of-type {\n",
       "        vertical-align: middle;\n",
       "    }\n",
       "\n",
       "    .dataframe tbody tr th {\n",
       "        vertical-align: top;\n",
       "    }\n",
       "\n",
       "    .dataframe thead th {\n",
       "        text-align: right;\n",
       "    }\n",
       "</style>\n",
       "<table border=\"1\" class=\"dataframe\">\n",
       "  <thead>\n",
       "    <tr style=\"text-align: right;\">\n",
       "      <th></th>\n",
       "      <th>endDate</th>\n",
       "      <th>exchangeCode</th>\n",
       "      <th>startDate</th>\n",
       "      <th>ticker</th>\n",
       "      <th>name</th>\n",
       "      <th>description</th>\n",
       "    </tr>\n",
       "  </thead>\n",
       "  <tbody>\n",
       "    <tr>\n",
       "      <th>0</th>\n",
       "      <td>2021-03-10</td>\n",
       "      <td>NASDAQ</td>\n",
       "      <td>2006-06-28</td>\n",
       "      <td>CSII</td>\n",
       "      <td>Cardiovascular Systems Inc</td>\n",
       "      <td>Cardiovascular Systems, Inc., based in St. Pau...</td>\n",
       "    </tr>\n",
       "    <tr>\n",
       "      <th>1</th>\n",
       "      <td>2021-03-10</td>\n",
       "      <td>NASDAQ</td>\n",
       "      <td>1993-10-27</td>\n",
       "      <td>FONR</td>\n",
       "      <td>Fonar Corp</td>\n",
       "      <td>Fonar Corporation (Fonar) operates in two segm...</td>\n",
       "    </tr>\n",
       "    <tr>\n",
       "      <th>2</th>\n",
       "      <td>2021-03-10</td>\n",
       "      <td>NASDAQ</td>\n",
       "      <td>1984-09-07</td>\n",
       "      <td>AMGN</td>\n",
       "      <td>AMGEN Inc</td>\n",
       "      <td>Amgen is committed to unlocking the potential ...</td>\n",
       "    </tr>\n",
       "    <tr>\n",
       "      <th>3</th>\n",
       "      <td>2021-03-10</td>\n",
       "      <td>NASDAQ</td>\n",
       "      <td>1990-03-26</td>\n",
       "      <td>HCSG</td>\n",
       "      <td>Healthcare Services Group Inc</td>\n",
       "      <td>Healthcare Services Group, Inc. provides manag...</td>\n",
       "    </tr>\n",
       "    <tr>\n",
       "      <th>4</th>\n",
       "      <td>2021-03-10</td>\n",
       "      <td>NASDAQ</td>\n",
       "      <td>1990-03-26</td>\n",
       "      <td>LAKE</td>\n",
       "      <td>Lakeland Industries Inc</td>\n",
       "      <td>We manufacture and sell a comprehensive line o...</td>\n",
       "    </tr>\n",
       "  </tbody>\n",
       "</table>\n",
       "</div>"
      ],
      "text/plain": [
       "      endDate exchangeCode   startDate ticker                           name  \\\n",
       "0  2021-03-10       NASDAQ  2006-06-28   CSII     Cardiovascular Systems Inc   \n",
       "1  2021-03-10       NASDAQ  1993-10-27   FONR                     Fonar Corp   \n",
       "2  2021-03-10       NASDAQ  1984-09-07   AMGN                      AMGEN Inc   \n",
       "3  2021-03-10       NASDAQ  1990-03-26   HCSG  Healthcare Services Group Inc   \n",
       "4  2021-03-10       NASDAQ  1990-03-26   LAKE        Lakeland Industries Inc   \n",
       "\n",
       "                                         description  \n",
       "0  Cardiovascular Systems, Inc., based in St. Pau...  \n",
       "1  Fonar Corporation (Fonar) operates in two segm...  \n",
       "2  Amgen is committed to unlocking the potential ...  \n",
       "3  Healthcare Services Group, Inc. provides manag...  \n",
       "4  We manufacture and sell a comprehensive line o...  "
      ]
     },
     "execution_count": 30,
     "metadata": {},
     "output_type": "execute_result"
    }
   ],
   "source": [
    "##I don't have the metadata for all these companies. It might be useful.\n",
    "##Pass the list of ticker symbols into the client and retrieve the metadata.\n",
    "dict_list=[]\n",
    "for symbol in pre_2016_ipo_symbols:\n",
    "    dict_pre_2016_metadata=client.get_ticker_metadata(symbol)\n",
    "    dict_list.append(dict_pre_2016_metadata)\n",
    "df_nasdaq_pre_2016_metadata=pd.DataFrame(dict_list) \n",
    "df_nasdaq_pre_2016_metadata.head()"
   ]
  },
  {
   "cell_type": "code",
   "execution_count": 31,
   "metadata": {},
   "outputs": [],
   "source": [
    "df_nasdaq_pre_2016_metadata.to_csv('df_nasdaq_pre_2016_metadata.csv')"
   ]
  },
  {
   "cell_type": "code",
   "execution_count": 35,
   "metadata": {},
   "outputs": [
    {
     "name": "stdout",
     "output_type": "stream",
     "text": [
      "<class 'pandas.core.frame.DataFrame'>\n",
      "RangeIndex: 392 entries, 0 to 391\n",
      "Data columns (total 6 columns):\n",
      " #   Column        Non-Null Count  Dtype \n",
      "---  ------        --------------  ----- \n",
      " 0   endDate       392 non-null    object\n",
      " 1   exchangeCode  392 non-null    object\n",
      " 2   startDate     392 non-null    object\n",
      " 3   ticker        392 non-null    object\n",
      " 4   name          392 non-null    object\n",
      " 5   description   392 non-null    object\n",
      "dtypes: object(6)\n",
      "memory usage: 18.5+ KB\n"
     ]
    }
   ],
   "source": [
    "df_nasdaq_pre_2016_metadata.info()"
   ]
  },
  {
   "cell_type": "code",
   "execution_count": null,
   "metadata": {},
   "outputs": [],
   "source": []
  },
  {
   "cell_type": "code",
   "execution_count": 32,
   "metadata": {},
   "outputs": [],
   "source": [
    "##I now have a csv file with metadata, ticker symbols, and IPO dates for all\n",
    "##biotech/pharma stocks traded on NASDAQ, with pre-2016 IPOs."
   ]
  },
  {
   "cell_type": "code",
   "execution_count": 36,
   "metadata": {},
   "outputs": [
    {
     "name": "stdout",
     "output_type": "stream",
     "text": [
      "['CSII', 'FONR', 'AMGN', 'HCSG', 'LAKE']\n"
     ]
    },
    {
     "data": {
      "text/plain": [
       "list"
      ]
     },
     "execution_count": 36,
     "metadata": {},
     "output_type": "execute_result"
    }
   ],
   "source": [
    "##Make a list of the ticker symbols.\n",
    "pre_2016_ipo_symbols = df_nasdaq_pre_2016_metadata.ticker.values.tolist()\n",
    "print(pre_2016_ipo_symbols[0:5])\n",
    "type(pre_2016_ipo_symbols[5])\n",
    "type(pre_2016_ipo_symbols)"
   ]
  },
  {
   "cell_type": "code",
   "execution_count": 48,
   "metadata": {},
   "outputs": [
    {
     "name": "stdout",
     "output_type": "stream",
     "text": [
      "KeyError  'date'\n",
      "Execution time in seconds: 279.4563081264496\n"
     ]
    }
   ],
   "source": [
    "###  HISTORICAL EOD PRICES DOWNLOAD\n",
    "###  THIS IS A RETRY WITH ONLY NASDAQ PHARMA/BIOTECH STOCKS WITH IPOs BEFORE 2016\n",
    "###  THIS CODE BLOCK COLLECTS 4 YEARS OF DATA; 1/1/2016 TO 1/1/2020\n",
    "\n",
    "#If I can pass in the list of ticker symbols stock_tickers, then I can have\n",
    "#the pandas datareader download the closing prices for 4 years of the biotech \n",
    "#and pharma stocks in my list. Then save it to a csv file.\n",
    "#stock_tickers\n",
    "\n",
    "import time\n",
    "startTime = time.time()\n",
    "\n",
    "pharma_2016_2020_hist_data_list=[]\n",
    "#use the list pre_2016_ipo_symbols from above. Get the data for each ticker symbol(this will be a pandas series),\n",
    "#and append it to the list.\n",
    "for ticker in pre_2016_ipo_symbols:\n",
    "    try:\n",
    "        ticker_prices = pdr.get_data_tiingo(ticker, start='2016-01-01', end='2020-01-01', \n",
    "                                           pause=0.2, api_key='307d0cd85ac1760c0dc887e433b4673cc352d8a1')\n",
    "        pharma_2016_2020_hist_data_list.append(ticker_prices)\n",
    "    except KeyError as ke:\n",
    "        print('KeyError ', ke)\n",
    "        \n",
    "\n",
    "#Concatenate the list of series into a dataframe\n",
    "df_2016_2020_hist_data=pd.concat(pharma_2016_2020_hist_data_list, axis=0)\n",
    "\n",
    "#save the resulting dataframe to a csv file\n",
    "df_2016_2020_hist_data.to_csv('df_pharma_2016_2020_hist_data.csv')\n",
    "\n",
    "executionTime = (time.time() - startTime)\n",
    "print('Execution time in seconds: ' + str(executionTime))"
   ]
  },
  {
   "cell_type": "code",
   "execution_count": 106,
   "metadata": {},
   "outputs": [],
   "source": [
    "df_ALL_pharma_companies=pd.read_csv('ALL_Symbols_screener_nyse_nasdaq_amex.csv')"
   ]
  },
  {
   "cell_type": "code",
   "execution_count": 107,
   "metadata": {},
   "outputs": [
    {
     "name": "stdout",
     "output_type": "stream",
     "text": [
      "<class 'pandas.core.frame.DataFrame'>\n",
      "RangeIndex: 866 entries, 0 to 865\n",
      "Data columns (total 11 columns):\n",
      " #   Column      Non-Null Count  Dtype  \n",
      "---  ------      --------------  -----  \n",
      " 0   Symbol      866 non-null    object \n",
      " 1   Name        866 non-null    object \n",
      " 2   Last Sale   866 non-null    object \n",
      " 3   Net Change  866 non-null    float64\n",
      " 4   % Change    866 non-null    object \n",
      " 5   Market Cap  866 non-null    float64\n",
      " 6   Country     866 non-null    object \n",
      " 7   IPO Year    556 non-null    float64\n",
      " 8   Volume      866 non-null    int64  \n",
      " 9   Sector      866 non-null    object \n",
      " 10  Industry    866 non-null    object \n",
      "dtypes: float64(3), int64(1), object(7)\n",
      "memory usage: 74.5+ KB\n"
     ]
    }
   ],
   "source": [
    "df_ALL_pharma_companies.info()"
   ]
  },
  {
   "cell_type": "code",
   "execution_count": 108,
   "metadata": {},
   "outputs": [
    {
     "data": {
      "text/html": [
       "<div>\n",
       "<style scoped>\n",
       "    .dataframe tbody tr th:only-of-type {\n",
       "        vertical-align: middle;\n",
       "    }\n",
       "\n",
       "    .dataframe tbody tr th {\n",
       "        vertical-align: top;\n",
       "    }\n",
       "\n",
       "    .dataframe thead th {\n",
       "        text-align: right;\n",
       "    }\n",
       "</style>\n",
       "<table border=\"1\" class=\"dataframe\">\n",
       "  <thead>\n",
       "    <tr style=\"text-align: right;\">\n",
       "      <th></th>\n",
       "      <th>Symbol</th>\n",
       "      <th>Name</th>\n",
       "      <th>Last Sale</th>\n",
       "      <th>Net Change</th>\n",
       "      <th>% Change</th>\n",
       "      <th>Market Cap</th>\n",
       "      <th>Country</th>\n",
       "      <th>IPO Year</th>\n",
       "      <th>Volume</th>\n",
       "      <th>Sector</th>\n",
       "      <th>Industry</th>\n",
       "    </tr>\n",
       "  </thead>\n",
       "  <tbody>\n",
       "    <tr>\n",
       "      <th>0</th>\n",
       "      <td>CNMD</td>\n",
       "      <td>CONMED Corporation Common Stock</td>\n",
       "      <td>$122.66</td>\n",
       "      <td>0.24</td>\n",
       "      <td>0.20%</td>\n",
       "      <td>3.550119e+09</td>\n",
       "      <td>United States</td>\n",
       "      <td>1987.0</td>\n",
       "      <td>251611</td>\n",
       "      <td>Health Care</td>\n",
       "      <td>Biotechnology: Electromedical &amp; Electrotherape...</td>\n",
       "    </tr>\n",
       "    <tr>\n",
       "      <th>1</th>\n",
       "      <td>HAE</td>\n",
       "      <td>Haemonetics Corporation Common Stock</td>\n",
       "      <td>$122.22</td>\n",
       "      <td>-3.02</td>\n",
       "      <td>-2.41%</td>\n",
       "      <td>6.211428e+09</td>\n",
       "      <td>United States</td>\n",
       "      <td>1991.0</td>\n",
       "      <td>839850</td>\n",
       "      <td>Health Care</td>\n",
       "      <td>Medical/Dental Instruments</td>\n",
       "    </tr>\n",
       "    <tr>\n",
       "      <th>2</th>\n",
       "      <td>USPH</td>\n",
       "      <td>U.S. Physical Therapy Inc. Common Stock</td>\n",
       "      <td>$110.80</td>\n",
       "      <td>-2.75</td>\n",
       "      <td>-2.42%</td>\n",
       "      <td>1.423951e+09</td>\n",
       "      <td>United States</td>\n",
       "      <td>1992.0</td>\n",
       "      <td>54594</td>\n",
       "      <td>Health Care</td>\n",
       "      <td>Medical/Nursing Services</td>\n",
       "    </tr>\n",
       "    <tr>\n",
       "      <th>3</th>\n",
       "      <td>NUS</td>\n",
       "      <td>Nu Skin Enterprises Inc. Common Stock</td>\n",
       "      <td>$50.63</td>\n",
       "      <td>-1.03</td>\n",
       "      <td>-1.99%</td>\n",
       "      <td>2.574249e+09</td>\n",
       "      <td>United States</td>\n",
       "      <td>1996.0</td>\n",
       "      <td>592081</td>\n",
       "      <td>Health Care</td>\n",
       "      <td>Other Pharmaceuticals</td>\n",
       "    </tr>\n",
       "    <tr>\n",
       "      <th>4</th>\n",
       "      <td>CSU</td>\n",
       "      <td>Capital Senior Living Corporation Common Stock</td>\n",
       "      <td>$29.64</td>\n",
       "      <td>-0.81</td>\n",
       "      <td>-2.66%</td>\n",
       "      <td>6.178742e+07</td>\n",
       "      <td>United States</td>\n",
       "      <td>1997.0</td>\n",
       "      <td>45321</td>\n",
       "      <td>Health Care</td>\n",
       "      <td>Hospital/Nursing Management</td>\n",
       "    </tr>\n",
       "  </tbody>\n",
       "</table>\n",
       "</div>"
      ],
      "text/plain": [
       "  Symbol                                            Name Last Sale  \\\n",
       "0   CNMD                 CONMED Corporation Common Stock  $122.66    \n",
       "1    HAE            Haemonetics Corporation Common Stock  $122.22    \n",
       "2   USPH         U.S. Physical Therapy Inc. Common Stock  $110.80    \n",
       "3    NUS           Nu Skin Enterprises Inc. Common Stock   $50.63    \n",
       "4    CSU  Capital Senior Living Corporation Common Stock   $29.64    \n",
       "\n",
       "   Net Change % Change    Market Cap        Country  IPO Year  Volume  \\\n",
       "0        0.24    0.20%  3.550119e+09  United States    1987.0  251611   \n",
       "1       -3.02   -2.41%  6.211428e+09  United States    1991.0  839850   \n",
       "2       -2.75   -2.42%  1.423951e+09  United States    1992.0   54594   \n",
       "3       -1.03   -1.99%  2.574249e+09  United States    1996.0  592081   \n",
       "4       -0.81   -2.66%  6.178742e+07  United States    1997.0   45321   \n",
       "\n",
       "        Sector                                           Industry  \n",
       "0  Health Care  Biotechnology: Electromedical & Electrotherape...  \n",
       "1  Health Care                         Medical/Dental Instruments  \n",
       "2  Health Care                           Medical/Nursing Services  \n",
       "3  Health Care                              Other Pharmaceuticals  \n",
       "4  Health Care                        Hospital/Nursing Management  "
      ]
     },
     "execution_count": 108,
     "metadata": {},
     "output_type": "execute_result"
    }
   ],
   "source": [
    "df_ALL_pharma_companies.head()"
   ]
  },
  {
   "cell_type": "code",
   "execution_count": 109,
   "metadata": {},
   "outputs": [],
   "source": [
    "ALL_pharma_company_symbols = df_ALL_pharma_companies.Symbol.values.tolist()"
   ]
  },
  {
   "cell_type": "code",
   "execution_count": 110,
   "metadata": {},
   "outputs": [
    {
     "name": "stdout",
     "output_type": "stream",
     "text": [
      "Execution time in seconds: 126.26517009735107\n"
     ]
    }
   ],
   "source": [
    "##3/11/21\n",
    "##I'm going to fetch metadata for the full list of biotech/pharma\n",
    "##companies, agnostic of IPO year.\n",
    "\n",
    "import time\n",
    "startTime = time.time()\n",
    "\n",
    "dict_list=[]\n",
    "for symbol in ALL_pharma_company_symbols:\n",
    "    try:\n",
    "        dict_company=client.get_ticker_metadata(symbol)\n",
    "        dict_list.append(dict_company)\n",
    "    except HTTPError as he:\n",
    "        print(symbol,'HTTPError ', he)\n",
    "    \n",
    "df_metadata_ALL_companies=pd.DataFrame(dict_list) \n",
    "df_metadata_ALL_companies.head()\n",
    "\n",
    "executionTime = (time.time() - startTime)\n",
    "print('Execution time in seconds: ' + str(executionTime))"
   ]
  },
  {
   "cell_type": "code",
   "execution_count": 111,
   "metadata": {},
   "outputs": [],
   "source": [
    "df_metadata_ALL_companies.to_csv('df_metadata_ALL_companies.csv')"
   ]
  },
  {
   "cell_type": "code",
   "execution_count": 86,
   "metadata": {},
   "outputs": [
    {
     "data": {
      "text/html": [
       "<div>\n",
       "<style scoped>\n",
       "    .dataframe tbody tr th:only-of-type {\n",
       "        vertical-align: middle;\n",
       "    }\n",
       "\n",
       "    .dataframe tbody tr th {\n",
       "        vertical-align: top;\n",
       "    }\n",
       "\n",
       "    .dataframe thead th {\n",
       "        text-align: right;\n",
       "    }\n",
       "</style>\n",
       "<table border=\"1\" class=\"dataframe\">\n",
       "  <thead>\n",
       "    <tr style=\"text-align: right;\">\n",
       "      <th></th>\n",
       "      <th>endDate</th>\n",
       "      <th>exchangeCode</th>\n",
       "      <th>startDate</th>\n",
       "      <th>ticker</th>\n",
       "      <th>name</th>\n",
       "      <th>description</th>\n",
       "    </tr>\n",
       "  </thead>\n",
       "  <tbody>\n",
       "    <tr>\n",
       "      <th>57</th>\n",
       "      <td>2021-03-11</td>\n",
       "      <td>NYSE</td>\n",
       "      <td>1996-12-26</td>\n",
       "      <td>DGX</td>\n",
       "      <td>Quest Diagnostics Inc</td>\n",
       "      <td>Quest Diagnostics empowers people to take acti...</td>\n",
       "    </tr>\n",
       "    <tr>\n",
       "      <th>58</th>\n",
       "      <td>2021-03-11</td>\n",
       "      <td>NYSE</td>\n",
       "      <td>1995-10-31</td>\n",
       "      <td>DVA</td>\n",
       "      <td>DaVita Inc</td>\n",
       "      <td>DaVita Inc. is a health care provider focused ...</td>\n",
       "    </tr>\n",
       "    <tr>\n",
       "      <th>59</th>\n",
       "      <td>2021-03-11</td>\n",
       "      <td>NYSE</td>\n",
       "      <td>2017-12-29</td>\n",
       "      <td>EHC</td>\n",
       "      <td>Encompass Health Corp</td>\n",
       "      <td>Encompass Health Corp</td>\n",
       "    </tr>\n",
       "    <tr>\n",
       "      <th>60</th>\n",
       "      <td>2021-03-11</td>\n",
       "      <td>NYSE</td>\n",
       "      <td>1980-06-12</td>\n",
       "      <td>ENZ</td>\n",
       "      <td>Enzo Biochem Inc</td>\n",
       "      <td>Enzo Biochem is a pioneer in molecular diagnos...</td>\n",
       "    </tr>\n",
       "    <tr>\n",
       "      <th>61</th>\n",
       "      <td>2021-03-11</td>\n",
       "      <td>NYSE</td>\n",
       "      <td>2000-03-27</td>\n",
       "      <td>EW</td>\n",
       "      <td>Edwards Lifesciences Corp</td>\n",
       "      <td>Edwards Lifesciences is the global leader of p...</td>\n",
       "    </tr>\n",
       "  </tbody>\n",
       "</table>\n",
       "</div>"
      ],
      "text/plain": [
       "       endDate exchangeCode   startDate ticker                       name  \\\n",
       "57  2021-03-11         NYSE  1996-12-26    DGX      Quest Diagnostics Inc   \n",
       "58  2021-03-11         NYSE  1995-10-31    DVA                 DaVita Inc   \n",
       "59  2021-03-11         NYSE  2017-12-29    EHC      Encompass Health Corp   \n",
       "60  2021-03-11         NYSE  1980-06-12    ENZ           Enzo Biochem Inc   \n",
       "61  2021-03-11         NYSE  2000-03-27     EW  Edwards Lifesciences Corp   \n",
       "\n",
       "                                          description  \n",
       "57  Quest Diagnostics empowers people to take acti...  \n",
       "58  DaVita Inc. is a health care provider focused ...  \n",
       "59                              Encompass Health Corp  \n",
       "60  Enzo Biochem is a pioneer in molecular diagnos...  \n",
       "61  Edwards Lifesciences is the global leader of p...  "
      ]
     },
     "execution_count": 86,
     "metadata": {},
     "output_type": "execute_result"
    }
   ],
   "source": [
    "df_temp= pd.DataFrame(dict_list)\n",
    "df_temp.tail()\n",
    "##df_temp.info()"
   ]
  },
  {
   "cell_type": "code",
   "execution_count": 87,
   "metadata": {},
   "outputs": [
    {
     "name": "stdout",
     "output_type": "stream",
     "text": [
      "<class 'pandas.core.frame.DataFrame'>\n",
      "RangeIndex: 62 entries, 0 to 61\n",
      "Data columns (total 6 columns):\n",
      " #   Column        Non-Null Count  Dtype \n",
      "---  ------        --------------  ----- \n",
      " 0   endDate       62 non-null     object\n",
      " 1   exchangeCode  62 non-null     object\n",
      " 2   startDate     62 non-null     object\n",
      " 3   ticker        62 non-null     object\n",
      " 4   name          61 non-null     object\n",
      " 5   description   62 non-null     object\n",
      "dtypes: object(6)\n",
      "memory usage: 3.0+ KB\n"
     ]
    }
   ],
   "source": [
    "df_temp.info()"
   ]
  },
  {
   "cell_type": "code",
   "execution_count": null,
   "metadata": {},
   "outputs": [],
   "source": []
  },
  {
   "cell_type": "code",
   "execution_count": 89,
   "metadata": {},
   "outputs": [
    {
     "data": {
      "text/html": [
       "<div>\n",
       "<style scoped>\n",
       "    .dataframe tbody tr th:only-of-type {\n",
       "        vertical-align: middle;\n",
       "    }\n",
       "\n",
       "    .dataframe tbody tr th {\n",
       "        vertical-align: top;\n",
       "    }\n",
       "\n",
       "    .dataframe thead th {\n",
       "        text-align: right;\n",
       "    }\n",
       "</style>\n",
       "<table border=\"1\" class=\"dataframe\">\n",
       "  <thead>\n",
       "    <tr style=\"text-align: right;\">\n",
       "      <th></th>\n",
       "      <th>endDate</th>\n",
       "      <th>exchangeCode</th>\n",
       "      <th>startDate</th>\n",
       "      <th>ticker</th>\n",
       "      <th>name</th>\n",
       "      <th>description</th>\n",
       "    </tr>\n",
       "  </thead>\n",
       "  <tbody>\n",
       "    <tr>\n",
       "      <th>0</th>\n",
       "      <td>2021-03-11</td>\n",
       "      <td>NYSE</td>\n",
       "      <td>2017-12-29</td>\n",
       "      <td>EHC</td>\n",
       "      <td>Encompass Health Corp</td>\n",
       "      <td>Encompass Health Corp</td>\n",
       "    </tr>\n",
       "    <tr>\n",
       "      <th>1</th>\n",
       "      <td>2021-03-11</td>\n",
       "      <td>NYSE</td>\n",
       "      <td>1980-06-12</td>\n",
       "      <td>ENZ</td>\n",
       "      <td>Enzo Biochem Inc</td>\n",
       "      <td>Enzo Biochem is a pioneer in molecular diagnos...</td>\n",
       "    </tr>\n",
       "    <tr>\n",
       "      <th>2</th>\n",
       "      <td>2021-03-11</td>\n",
       "      <td>NYSE</td>\n",
       "      <td>2000-03-27</td>\n",
       "      <td>EW</td>\n",
       "      <td>Edwards Lifesciences Corp</td>\n",
       "      <td>Edwards Lifesciences is the global leader of p...</td>\n",
       "    </tr>\n",
       "    <tr>\n",
       "      <th>3</th>\n",
       "      <td>2021-03-11</td>\n",
       "      <td>NYSE</td>\n",
       "      <td>2007-05-15</td>\n",
       "      <td>GEN</td>\n",
       "      <td>Genesis Healthcare Inc - Class A</td>\n",
       "      <td>Genesis Healthcare, Inc. is a holding company ...</td>\n",
       "    </tr>\n",
       "    <tr>\n",
       "      <th>4</th>\n",
       "      <td>2021-03-11</td>\n",
       "      <td>NYSE</td>\n",
       "      <td>1987-03-02</td>\n",
       "      <td>HRC</td>\n",
       "      <td>Hill-Rom Holdings Inc</td>\n",
       "      <td>Hill-Rom is a leading global medical technolog...</td>\n",
       "    </tr>\n",
       "  </tbody>\n",
       "</table>\n",
       "</div>"
      ],
      "text/plain": [
       "      endDate exchangeCode   startDate ticker  \\\n",
       "0  2021-03-11         NYSE  2017-12-29    EHC   \n",
       "1  2021-03-11         NYSE  1980-06-12    ENZ   \n",
       "2  2021-03-11         NYSE  2000-03-27     EW   \n",
       "3  2021-03-11         NYSE  2007-05-15    GEN   \n",
       "4  2021-03-11         NYSE  1987-03-02    HRC   \n",
       "\n",
       "                               name  \\\n",
       "0             Encompass Health Corp   \n",
       "1                  Enzo Biochem Inc   \n",
       "2         Edwards Lifesciences Corp   \n",
       "3  Genesis Healthcare Inc - Class A   \n",
       "4             Hill-Rom Holdings Inc   \n",
       "\n",
       "                                         description  \n",
       "0                              Encompass Health Corp  \n",
       "1  Enzo Biochem is a pioneer in molecular diagnos...  \n",
       "2  Edwards Lifesciences is the global leader of p...  \n",
       "3  Genesis Healthcare, Inc. is a holding company ...  \n",
       "4  Hill-Rom is a leading global medical technolog...  "
      ]
     },
     "execution_count": 89,
     "metadata": {},
     "output_type": "execute_result"
    }
   ],
   "source": [
    "##test\n",
    "dict_list_test=[]\n",
    "#for symbol in ALL_pharma_company_symbols:\n",
    "ticker_list=['EHC', 'ENZ', 'EW', 'gen', 'HRC']\n",
    "\n",
    "for symbol2 in ticker_list:\n",
    "    dict_company2=client.get_ticker_metadata(symbol2)\n",
    "    dict_list_test.append(dict_company2)\n",
    "    \n",
    "    \n",
    "df_metadata_EW_ENZ=pd.DataFrame(dict_list_test) \n",
    "df_metadata_EW_ENZ"
   ]
  },
  {
   "cell_type": "code",
   "execution_count": 90,
   "metadata": {},
   "outputs": [
    {
     "name": "stdout",
     "output_type": "stream",
     "text": [
      "<class 'pandas.core.frame.DataFrame'>\n",
      "RangeIndex: 5 entries, 0 to 4\n",
      "Data columns (total 6 columns):\n",
      " #   Column        Non-Null Count  Dtype \n",
      "---  ------        --------------  ----- \n",
      " 0   endDate       5 non-null      object\n",
      " 1   exchangeCode  5 non-null      object\n",
      " 2   startDate     5 non-null      object\n",
      " 3   ticker        5 non-null      object\n",
      " 4   name          5 non-null      object\n",
      " 5   description   5 non-null      object\n",
      "dtypes: object(6)\n",
      "memory usage: 368.0+ bytes\n"
     ]
    }
   ],
   "source": [
    "df_metadata_EW_ENZ.info()"
   ]
  },
  {
   "cell_type": "code",
   "execution_count": null,
   "metadata": {},
   "outputs": [],
   "source": []
  },
  {
   "cell_type": "code",
   "execution_count": 8,
   "metadata": {},
   "outputs": [
    {
     "name": "stdout",
     "output_type": "stream",
     "text": [
      "Execution time in seconds: 0.8666360378265381\n"
     ]
    }
   ],
   "source": [
    "###Re-doing this with only Lilly LLY\n",
    "### 4 YEARS OF DATA; 1/1/2016 TO 1/1/2020\n",
    "\n",
    "\n",
    "\n",
    "import time\n",
    "startTime = time.time()\n",
    "pre_2016_ipo_symbols=['LLY']\n",
    "lilly_2016_2020_hist_data_list=[]\n",
    "#use the list pre_2016_ipo_symbols from above. Get the data for each ticker symbol(this will be a pandas series),\n",
    "#and append it to the list.\n",
    "for ticker in pre_2016_ipo_symbols:\n",
    "    try:\n",
    "        ticker_prices = pdr.get_data_tiingo(ticker, start='2016-01-01', end='2020-01-01', \n",
    "                                           pause=0.2, api_key='307d0cd85ac1760c0dc887e433b4673cc352d8a1')\n",
    "        lilly_2016_2020_hist_data_list.append(ticker_prices)\n",
    "    except KeyError as ke:\n",
    "        print('KeyError ', ke)\n",
    "        \n",
    "\n",
    "#Concatenate the list of series into a dataframe\n",
    "df_2016_2020_hist_data_lilly=pd.concat(lilly_2016_2020_hist_data_list, axis=0)\n",
    "\n",
    "#save the resulting dataframe to a csv file\n",
    "df_2016_2020_hist_data_lilly.to_csv('df_pharma_2016_2020_hist_data_lilly.csv')\n",
    "\n",
    "executionTime = (time.time() - startTime)\n",
    "print('Execution time in seconds: ' + str(executionTime))"
   ]
  },
  {
   "cell_type": "code",
   "execution_count": 9,
   "metadata": {},
   "outputs": [
    {
     "data": {
      "text/html": [
       "<div>\n",
       "<style scoped>\n",
       "    .dataframe tbody tr th:only-of-type {\n",
       "        vertical-align: middle;\n",
       "    }\n",
       "\n",
       "    .dataframe tbody tr th {\n",
       "        vertical-align: top;\n",
       "    }\n",
       "\n",
       "    .dataframe thead th {\n",
       "        text-align: right;\n",
       "    }\n",
       "</style>\n",
       "<table border=\"1\" class=\"dataframe\">\n",
       "  <thead>\n",
       "    <tr style=\"text-align: right;\">\n",
       "      <th></th>\n",
       "      <th></th>\n",
       "      <th>close</th>\n",
       "      <th>high</th>\n",
       "      <th>low</th>\n",
       "      <th>open</th>\n",
       "      <th>volume</th>\n",
       "      <th>adjClose</th>\n",
       "      <th>adjHigh</th>\n",
       "      <th>adjLow</th>\n",
       "      <th>adjOpen</th>\n",
       "      <th>adjVolume</th>\n",
       "      <th>divCash</th>\n",
       "      <th>splitFactor</th>\n",
       "    </tr>\n",
       "    <tr>\n",
       "      <th>symbol</th>\n",
       "      <th>date</th>\n",
       "      <th></th>\n",
       "      <th></th>\n",
       "      <th></th>\n",
       "      <th></th>\n",
       "      <th></th>\n",
       "      <th></th>\n",
       "      <th></th>\n",
       "      <th></th>\n",
       "      <th></th>\n",
       "      <th></th>\n",
       "      <th></th>\n",
       "      <th></th>\n",
       "    </tr>\n",
       "  </thead>\n",
       "  <tbody>\n",
       "    <tr>\n",
       "      <td rowspan=\"5\" valign=\"top\">LLY</td>\n",
       "      <td>2016-01-04 00:00:00+00:00</td>\n",
       "      <td>82.87</td>\n",
       "      <td>83.600</td>\n",
       "      <td>81.790</td>\n",
       "      <td>83.40</td>\n",
       "      <td>6907076</td>\n",
       "      <td>73.233863</td>\n",
       "      <td>73.878979</td>\n",
       "      <td>72.279446</td>\n",
       "      <td>73.702235</td>\n",
       "      <td>6907076</td>\n",
       "      <td>0.0</td>\n",
       "      <td>1.0</td>\n",
       "    </tr>\n",
       "    <tr>\n",
       "      <td>2016-01-05 00:00:00+00:00</td>\n",
       "      <td>84.11</td>\n",
       "      <td>85.400</td>\n",
       "      <td>82.870</td>\n",
       "      <td>82.90</td>\n",
       "      <td>7463864</td>\n",
       "      <td>74.329676</td>\n",
       "      <td>75.469674</td>\n",
       "      <td>73.233863</td>\n",
       "      <td>73.260375</td>\n",
       "      <td>7463864</td>\n",
       "      <td>0.0</td>\n",
       "      <td>1.0</td>\n",
       "    </tr>\n",
       "    <tr>\n",
       "      <td>2016-01-06 00:00:00+00:00</td>\n",
       "      <td>83.58</td>\n",
       "      <td>84.880</td>\n",
       "      <td>82.495</td>\n",
       "      <td>82.69</td>\n",
       "      <td>6628332</td>\n",
       "      <td>73.861304</td>\n",
       "      <td>75.010140</td>\n",
       "      <td>72.902468</td>\n",
       "      <td>73.074794</td>\n",
       "      <td>6628332</td>\n",
       "      <td>0.0</td>\n",
       "      <td>1.0</td>\n",
       "    </tr>\n",
       "    <tr>\n",
       "      <td>2016-01-07 00:00:00+00:00</td>\n",
       "      <td>81.41</td>\n",
       "      <td>82.810</td>\n",
       "      <td>80.830</td>\n",
       "      <td>81.63</td>\n",
       "      <td>5832405</td>\n",
       "      <td>71.943632</td>\n",
       "      <td>73.180840</td>\n",
       "      <td>71.431075</td>\n",
       "      <td>72.138051</td>\n",
       "      <td>5832405</td>\n",
       "      <td>0.0</td>\n",
       "      <td>1.0</td>\n",
       "    </tr>\n",
       "    <tr>\n",
       "      <td>2016-01-08 00:00:00+00:00</td>\n",
       "      <td>81.25</td>\n",
       "      <td>82.485</td>\n",
       "      <td>81.040</td>\n",
       "      <td>81.67</td>\n",
       "      <td>5880152</td>\n",
       "      <td>71.802237</td>\n",
       "      <td>72.893631</td>\n",
       "      <td>71.616656</td>\n",
       "      <td>72.173399</td>\n",
       "      <td>5880152</td>\n",
       "      <td>0.0</td>\n",
       "      <td>1.0</td>\n",
       "    </tr>\n",
       "  </tbody>\n",
       "</table>\n",
       "</div>"
      ],
      "text/plain": [
       "                                  close    high     low   open   volume  \\\n",
       "symbol date                                                               \n",
       "LLY    2016-01-04 00:00:00+00:00  82.87  83.600  81.790  83.40  6907076   \n",
       "       2016-01-05 00:00:00+00:00  84.11  85.400  82.870  82.90  7463864   \n",
       "       2016-01-06 00:00:00+00:00  83.58  84.880  82.495  82.69  6628332   \n",
       "       2016-01-07 00:00:00+00:00  81.41  82.810  80.830  81.63  5832405   \n",
       "       2016-01-08 00:00:00+00:00  81.25  82.485  81.040  81.67  5880152   \n",
       "\n",
       "                                   adjClose    adjHigh     adjLow    adjOpen  \\\n",
       "symbol date                                                                    \n",
       "LLY    2016-01-04 00:00:00+00:00  73.233863  73.878979  72.279446  73.702235   \n",
       "       2016-01-05 00:00:00+00:00  74.329676  75.469674  73.233863  73.260375   \n",
       "       2016-01-06 00:00:00+00:00  73.861304  75.010140  72.902468  73.074794   \n",
       "       2016-01-07 00:00:00+00:00  71.943632  73.180840  71.431075  72.138051   \n",
       "       2016-01-08 00:00:00+00:00  71.802237  72.893631  71.616656  72.173399   \n",
       "\n",
       "                                  adjVolume  divCash  splitFactor  \n",
       "symbol date                                                        \n",
       "LLY    2016-01-04 00:00:00+00:00    6907076      0.0          1.0  \n",
       "       2016-01-05 00:00:00+00:00    7463864      0.0          1.0  \n",
       "       2016-01-06 00:00:00+00:00    6628332      0.0          1.0  \n",
       "       2016-01-07 00:00:00+00:00    5832405      0.0          1.0  \n",
       "       2016-01-08 00:00:00+00:00    5880152      0.0          1.0  "
      ]
     },
     "execution_count": 9,
     "metadata": {},
     "output_type": "execute_result"
    }
   ],
   "source": [
    "df_2016_2020_hist_data_lilly.head()"
   ]
  },
  {
   "cell_type": "code",
   "execution_count": 10,
   "metadata": {},
   "outputs": [],
   "source": [
    "#pickle this dataframe\n",
    "import pickle\n",
    "with open('df_2016_2020_hist_data_lilly.pickle', 'wb') as to_write:\n",
    "    pickle.dump(df_2016_2020_hist_data_lilly, to_write)"
   ]
  },
  {
   "cell_type": "code",
   "execution_count": 13,
   "metadata": {},
   "outputs": [
    {
     "name": "stdout",
     "output_type": "stream",
     "text": [
      "<class 'pandas.core.frame.DataFrame'>\n",
      "MultiIndex: 1006 entries, (LLY, 2016-01-04 00:00:00+00:00) to (LLY, 2019-12-31 00:00:00+00:00)\n",
      "Data columns (total 12 columns):\n",
      "close          1006 non-null float64\n",
      "high           1006 non-null float64\n",
      "low            1006 non-null float64\n",
      "open           1006 non-null float64\n",
      "volume         1006 non-null int64\n",
      "adjClose       1006 non-null float64\n",
      "adjHigh        1006 non-null float64\n",
      "adjLow         1006 non-null float64\n",
      "adjOpen        1006 non-null float64\n",
      "adjVolume      1006 non-null int64\n",
      "divCash        1006 non-null float64\n",
      "splitFactor    1006 non-null float64\n",
      "dtypes: float64(10), int64(2)\n",
      "memory usage: 105.2+ KB\n"
     ]
    }
   ],
   "source": [
    "df_2016_2020_hist_data_lilly.info()"
   ]
  },
  {
   "cell_type": "code",
   "execution_count": 11,
   "metadata": {},
   "outputs": [],
   "source": [
    "import matplotlib.pyplot as plt\n",
    "%matplotlib inline\n",
    "import seaborn as sns"
   ]
  },
  {
   "cell_type": "code",
   "execution_count": 14,
   "metadata": {},
   "outputs": [],
   "source": [
    "#this dataframe  has a multi index. Need to reset it so that the dates go into a column\n",
    "df_2016_2020_hist_data_lilly.reset_index(inplace=True)"
   ]
  },
  {
   "cell_type": "code",
   "execution_count": 15,
   "metadata": {},
   "outputs": [
    {
     "name": "stdout",
     "output_type": "stream",
     "text": [
      "<class 'pandas.core.frame.DataFrame'>\n",
      "RangeIndex: 1006 entries, 0 to 1005\n",
      "Data columns (total 14 columns):\n",
      "symbol         1006 non-null object\n",
      "date           1006 non-null datetime64[ns, UTC]\n",
      "close          1006 non-null float64\n",
      "high           1006 non-null float64\n",
      "low            1006 non-null float64\n",
      "open           1006 non-null float64\n",
      "volume         1006 non-null int64\n",
      "adjClose       1006 non-null float64\n",
      "adjHigh        1006 non-null float64\n",
      "adjLow         1006 non-null float64\n",
      "adjOpen        1006 non-null float64\n",
      "adjVolume      1006 non-null int64\n",
      "divCash        1006 non-null float64\n",
      "splitFactor    1006 non-null float64\n",
      "dtypes: datetime64[ns, UTC](1), float64(10), int64(2), object(1)\n",
      "memory usage: 110.2+ KB\n"
     ]
    }
   ],
   "source": [
    "df_2016_2020_hist_data_lilly.info()"
   ]
  },
  {
   "cell_type": "code",
   "execution_count": 18,
   "metadata": {},
   "outputs": [
    {
     "data": {
      "text/html": [
       "<div>\n",
       "<style scoped>\n",
       "    .dataframe tbody tr th:only-of-type {\n",
       "        vertical-align: middle;\n",
       "    }\n",
       "\n",
       "    .dataframe tbody tr th {\n",
       "        vertical-align: top;\n",
       "    }\n",
       "\n",
       "    .dataframe thead th {\n",
       "        text-align: right;\n",
       "    }\n",
       "</style>\n",
       "<table border=\"1\" class=\"dataframe\">\n",
       "  <thead>\n",
       "    <tr style=\"text-align: right;\">\n",
       "      <th></th>\n",
       "      <th>symbol</th>\n",
       "      <th>date</th>\n",
       "      <th>close</th>\n",
       "      <th>high</th>\n",
       "      <th>low</th>\n",
       "      <th>open</th>\n",
       "      <th>volume</th>\n",
       "      <th>adjClose</th>\n",
       "      <th>adjHigh</th>\n",
       "      <th>adjLow</th>\n",
       "      <th>adjOpen</th>\n",
       "      <th>adjVolume</th>\n",
       "      <th>divCash</th>\n",
       "      <th>splitFactor</th>\n",
       "    </tr>\n",
       "  </thead>\n",
       "  <tbody>\n",
       "    <tr>\n",
       "      <td>1005</td>\n",
       "      <td>LLY</td>\n",
       "      <td>2019-12-31 00:00:00+00:00</td>\n",
       "      <td>131.43</td>\n",
       "      <td>131.52</td>\n",
       "      <td>130.5</td>\n",
       "      <td>131.18</td>\n",
       "      <td>1549786</td>\n",
       "      <td>128.288449</td>\n",
       "      <td>128.376297</td>\n",
       "      <td>127.380678</td>\n",
       "      <td>128.044424</td>\n",
       "      <td>1549786</td>\n",
       "      <td>0.0</td>\n",
       "      <td>1.0</td>\n",
       "    </tr>\n",
       "  </tbody>\n",
       "</table>\n",
       "</div>"
      ],
      "text/plain": [
       "     symbol                      date   close    high    low    open   volume  \\\n",
       "1005    LLY 2019-12-31 00:00:00+00:00  131.43  131.52  130.5  131.18  1549786   \n",
       "\n",
       "        adjClose     adjHigh      adjLow     adjOpen  adjVolume  divCash  \\\n",
       "1005  128.288449  128.376297  127.380678  128.044424    1549786      0.0   \n",
       "\n",
       "      splitFactor  \n",
       "1005          1.0  "
      ]
     },
     "execution_count": 18,
     "metadata": {},
     "output_type": "execute_result"
    }
   ],
   "source": [
    "df_2016_2020_hist_data_lilly.tail(1)"
   ]
  },
  {
   "cell_type": "code",
   "execution_count": 26,
   "metadata": {},
   "outputs": [
    {
     "data": {
      "image/png": "[encoded data removed]",
      "text/plain": [
       "<Figure size 432x288 with 1 Axes>"
      ]
     },
     "metadata": {
      "needs_background": "light"
     },
     "output_type": "display_data"
    }
   ],
   "source": [
    "fig, ax = plt.subplots()\n",
    "sns.scatterplot(x='date', y='adjClose', data=df_2016_2020_hist_data_lilly, ax=ax)\n",
    "#ax.set_xlim(2016, 2020)\n",
    "#ax.set_xticks(range(2016, 2020))\n",
    "plt.show()"
   ]
  },
  {
   "cell_type": "code",
   "execution_count": 27,
   "metadata": {},
   "outputs": [],
   "source": [
    "#pickle this dataframe\n",
    "import pickle\n",
    "with open('df_2016_2020_hist_data_lilly_newindex.pickle', 'wb') as to_write:\n",
    "    pickle.dump(df_2016_2020_hist_data_lilly, to_write)\n",
    "df_2016_2020_hist_data_lilly.to_csv('df_2016_2020_hist_data_lilly_newindex.csv')"
   ]
  },
  {
   "cell_type": "code",
   "execution_count": null,
   "metadata": {},
   "outputs": [],
   "source": []
  },
  {
   "cell_type": "code",
   "execution_count": null,
   "metadata": {},
   "outputs": [],
   "source": []
  },
  {
   "cell_type": "code",
   "execution_count": 34,
   "metadata": {},
   "outputs": [],
   "source": [
    "#symbol_list=[]\n",
    "#symbols=['EXEL', 'DNA']\n",
    "#for symbol in symbols:\n",
    " #   ticker_metadata=client.get_ticker_metadata(symbol)\n",
    "  #  print(ticker_metadata)\n",
    "   # df_symbol=pd.DataFrame.from_dict(ticker_metadata, orient='index') \n",
    "   # print(df_symbol)\n",
    "    #start_date=df_symbol.get_value('startDate', 0)\n",
    "   # print (start_date)\n",
    "   # start_date=datetime(start_date)\n",
    "    #if start_date<=2014-12-31:\n",
    "      #  symbol_list.append(symbol)\n",
    "     #   print(symbol_list)"
   ]
  },
  {
   "cell_type": "code",
   "execution_count": null,
   "metadata": {},
   "outputs": [],
   "source": []
  },
  {
   "cell_type": "code",
   "execution_count": null,
   "metadata": {},
   "outputs": [],
   "source": []
  },
  {
   "cell_type": "code",
   "execution_count": null,
   "metadata": {
    "scrolled": true
   },
   "outputs": [],
   "source": []
  },
  {
   "cell_type": "code",
   "execution_count": null,
   "metadata": {},
   "outputs": [],
   "source": []
  },
  {
   "cell_type": "code",
   "execution_count": null,
   "metadata": {},
   "outputs": [],
   "source": []
  },
  {
   "cell_type": "code",
   "execution_count": null,
   "metadata": {},
   "outputs": [],
   "source": []
  },
  {
   "cell_type": "code",
   "execution_count": null,
   "metadata": {},
   "outputs": [],
   "source": [
    "import time\n",
    "startTime = time.time()\n",
    "\n",
    "#####your python script#####\n",
    "\n",
    "executionTime = (time.time() - startTime)\n",
    "print('Execution time in seconds: ' + str(executionTime))"
   ]
  },
  {
   "cell_type": "code",
   "execution_count": 24,
   "metadata": {},
   "outputs": [],
   "source": []
  },
  {
   "cell_type": "code",
   "execution_count": 33,
   "metadata": {},
   "outputs": [],
   "source": [
    "##I did this earlier--got a list of all ticker symbols that Tiingo keeps track of. \n",
    "##Not sure how helpful it was.\n",
    "#df_symbols=pdr.tiingo.get_tiingo_symbols()\n",
    "#df_symbols.to_csv('tiingo_symbols.csv')"
   ]
  },
  {
   "cell_type": "code",
   "execution_count": 47,
   "metadata": {},
   "outputs": [
    {
     "name": "stdout",
     "output_type": "stream",
     "text": [
      "<class 'list'>\n",
      "Execution time in seconds: 1.499776840209961\n"
     ]
    }
   ],
   "source": [
    "#If I can pass in the list of ticker symbols stock_tickers, then I can have\n",
    "#the pandas datareader download the closing prices for 5 years of the biotech \n",
    "#and pharma stocks in my list. Then save it to a csv file.\n",
    "#Also print the time it took to execute\n",
    "\n",
    "import time\n",
    "startTime = time.time()\n",
    "\n",
    "test4_hist_data_list=[]\n",
    "test4_list=['EXEL', 'MSFT']\n",
    "for ticker in test4_list:\n",
    "    df_test4_prices = pdr.get_data_tiingo(ticker, start='2015-01-01', end='2020-01-01', \n",
    "                                           pause=0.2, api_key='307d0cd85ac1760c0dc887e433b4673cc352d8a1') #['adjClose']\n",
    "    test4_hist_data_list.append(df_test4_prices)\n",
    "print(type(test4_hist_data_list))\n",
    "#test4_hist_data_list[0:5]\n",
    "    \n",
    "\n",
    "#df_pharma_prices.to_csv('pharma_prices.csv')\n",
    "executionTime = (time.time() - startTime)\n",
    "print('Execution time in seconds: ' + str(executionTime))"
   ]
  },
  {
   "cell_type": "code",
   "execution_count": 44,
   "metadata": {},
   "outputs": [
    {
     "name": "stdout",
     "output_type": "stream",
     "text": [
      "                                  close   high      low   open   volume  \\\n",
      "symbol date                                                               \n",
      "EXEL   2015-01-02 00:00:00+00:00   1.65   1.70   1.4600   1.47  5256481   \n",
      "       2015-01-05 00:00:00+00:00   1.63   1.70   1.5435   1.67  2290484   \n",
      "       2015-01-06 00:00:00+00:00   1.58   1.64   1.5600   1.64  1687215   \n",
      "       2015-01-07 00:00:00+00:00   1.63   1.63   1.5950   1.60  1407375   \n",
      "       2015-01-08 00:00:00+00:00   1.79   1.98   1.6700   1.67  9785422   \n",
      "...                                 ...    ...      ...    ...      ...   \n",
      "       2019-12-24 00:00:00+00:00  18.75  18.89  18.5337  18.88  1139269   \n",
      "       2019-12-26 00:00:00+00:00  18.89  19.03  18.7000  18.70  1844369   \n",
      "       2019-12-27 00:00:00+00:00  18.13  19.03  18.0400  19.00  2211760   \n",
      "       2019-12-30 00:00:00+00:00  17.72  18.14  17.5400  18.10  2156612   \n",
      "       2019-12-31 00:00:00+00:00  17.62  17.88  17.5700  17.60  1748201   \n",
      "\n",
      "                                  adjClose  adjHigh   adjLow  adjOpen  \\\n",
      "symbol date                                                             \n",
      "EXEL   2015-01-02 00:00:00+00:00      1.65     1.70   1.4600     1.47   \n",
      "       2015-01-05 00:00:00+00:00      1.63     1.70   1.5435     1.67   \n",
      "       2015-01-06 00:00:00+00:00      1.58     1.64   1.5600     1.64   \n",
      "       2015-01-07 00:00:00+00:00      1.63     1.63   1.5950     1.60   \n",
      "       2015-01-08 00:00:00+00:00      1.79     1.98   1.6700     1.67   \n",
      "...                                    ...      ...      ...      ...   \n",
      "       2019-12-24 00:00:00+00:00     18.75    18.89  18.5337    18.88   \n",
      "       2019-12-26 00:00:00+00:00     18.89    19.03  18.7000    18.70   \n",
      "       2019-12-27 00:00:00+00:00     18.13    19.03  18.0400    19.00   \n",
      "       2019-12-30 00:00:00+00:00     17.72    18.14  17.5400    18.10   \n",
      "       2019-12-31 00:00:00+00:00     17.62    17.88  17.5700    17.60   \n",
      "\n",
      "                                  adjVolume  divCash  splitFactor  \n",
      "symbol date                                                        \n",
      "EXEL   2015-01-02 00:00:00+00:00    5256481      0.0          1.0  \n",
      "       2015-01-05 00:00:00+00:00    2290484      0.0          1.0  \n",
      "       2015-01-06 00:00:00+00:00    1687215      0.0          1.0  \n",
      "       2015-01-07 00:00:00+00:00    1407375      0.0          1.0  \n",
      "       2015-01-08 00:00:00+00:00    9785422      0.0          1.0  \n",
      "...                                     ...      ...          ...  \n",
      "       2019-12-24 00:00:00+00:00    1139269      0.0          1.0  \n",
      "       2019-12-26 00:00:00+00:00    1844369      0.0          1.0  \n",
      "       2019-12-27 00:00:00+00:00    2211760      0.0          1.0  \n",
      "       2019-12-30 00:00:00+00:00    2156612      0.0          1.0  \n",
      "       2019-12-31 00:00:00+00:00    1748201      0.0          1.0  \n",
      "\n",
      "[1258 rows x 12 columns]\n"
     ]
    }
   ],
   "source": [
    "#Each ticker gets its own list!!! Perfect! This gave me only the adjusted closing price\n",
    "print(test4_hist_data_list[0])"
   ]
  },
  {
   "cell_type": "code",
   "execution_count": 46,
   "metadata": {},
   "outputs": [
    {
     "data": {
      "text/html": [
       "<div>\n",
       "<style scoped>\n",
       "    .dataframe tbody tr th:only-of-type {\n",
       "        vertical-align: middle;\n",
       "    }\n",
       "\n",
       "    .dataframe tbody tr th {\n",
       "        vertical-align: top;\n",
       "    }\n",
       "\n",
       "    .dataframe thead th {\n",
       "        text-align: right;\n",
       "    }\n",
       "</style>\n",
       "<table border=\"1\" class=\"dataframe\">\n",
       "  <thead>\n",
       "    <tr style=\"text-align: right;\">\n",
       "      <th></th>\n",
       "      <th></th>\n",
       "      <th>close</th>\n",
       "      <th>high</th>\n",
       "      <th>low</th>\n",
       "      <th>open</th>\n",
       "      <th>volume</th>\n",
       "      <th>adjClose</th>\n",
       "      <th>adjHigh</th>\n",
       "      <th>adjLow</th>\n",
       "      <th>adjOpen</th>\n",
       "      <th>adjVolume</th>\n",
       "      <th>divCash</th>\n",
       "      <th>splitFactor</th>\n",
       "    </tr>\n",
       "    <tr>\n",
       "      <th>symbol</th>\n",
       "      <th>date</th>\n",
       "      <th></th>\n",
       "      <th></th>\n",
       "      <th></th>\n",
       "      <th></th>\n",
       "      <th></th>\n",
       "      <th></th>\n",
       "      <th></th>\n",
       "      <th></th>\n",
       "      <th></th>\n",
       "      <th></th>\n",
       "      <th></th>\n",
       "      <th></th>\n",
       "    </tr>\n",
       "  </thead>\n",
       "  <tbody>\n",
       "    <tr>\n",
       "      <th rowspan=\"5\" valign=\"top\">EXEL</th>\n",
       "      <th>2015-01-02 00:00:00+00:00</th>\n",
       "      <td>1.65</td>\n",
       "      <td>1.70</td>\n",
       "      <td>1.4600</td>\n",
       "      <td>1.47</td>\n",
       "      <td>5256481</td>\n",
       "      <td>1.650000</td>\n",
       "      <td>1.700000</td>\n",
       "      <td>1.460000</td>\n",
       "      <td>1.470000</td>\n",
       "      <td>5256481</td>\n",
       "      <td>0.0</td>\n",
       "      <td>1.0</td>\n",
       "    </tr>\n",
       "    <tr>\n",
       "      <th>2015-01-05 00:00:00+00:00</th>\n",
       "      <td>1.63</td>\n",
       "      <td>1.70</td>\n",
       "      <td>1.5435</td>\n",
       "      <td>1.67</td>\n",
       "      <td>2290484</td>\n",
       "      <td>1.630000</td>\n",
       "      <td>1.700000</td>\n",
       "      <td>1.543500</td>\n",
       "      <td>1.670000</td>\n",
       "      <td>2290484</td>\n",
       "      <td>0.0</td>\n",
       "      <td>1.0</td>\n",
       "    </tr>\n",
       "    <tr>\n",
       "      <th>2015-01-06 00:00:00+00:00</th>\n",
       "      <td>1.58</td>\n",
       "      <td>1.64</td>\n",
       "      <td>1.5600</td>\n",
       "      <td>1.64</td>\n",
       "      <td>1687215</td>\n",
       "      <td>1.580000</td>\n",
       "      <td>1.640000</td>\n",
       "      <td>1.560000</td>\n",
       "      <td>1.640000</td>\n",
       "      <td>1687215</td>\n",
       "      <td>0.0</td>\n",
       "      <td>1.0</td>\n",
       "    </tr>\n",
       "    <tr>\n",
       "      <th>2015-01-07 00:00:00+00:00</th>\n",
       "      <td>1.63</td>\n",
       "      <td>1.63</td>\n",
       "      <td>1.5950</td>\n",
       "      <td>1.60</td>\n",
       "      <td>1407375</td>\n",
       "      <td>1.630000</td>\n",
       "      <td>1.630000</td>\n",
       "      <td>1.595000</td>\n",
       "      <td>1.600000</td>\n",
       "      <td>1407375</td>\n",
       "      <td>0.0</td>\n",
       "      <td>1.0</td>\n",
       "    </tr>\n",
       "    <tr>\n",
       "      <th>2015-01-08 00:00:00+00:00</th>\n",
       "      <td>1.79</td>\n",
       "      <td>1.98</td>\n",
       "      <td>1.6700</td>\n",
       "      <td>1.67</td>\n",
       "      <td>9785422</td>\n",
       "      <td>1.790000</td>\n",
       "      <td>1.980000</td>\n",
       "      <td>1.670000</td>\n",
       "      <td>1.670000</td>\n",
       "      <td>9785422</td>\n",
       "      <td>0.0</td>\n",
       "      <td>1.0</td>\n",
       "    </tr>\n",
       "    <tr>\n",
       "      <th>...</th>\n",
       "      <th>...</th>\n",
       "      <td>...</td>\n",
       "      <td>...</td>\n",
       "      <td>...</td>\n",
       "      <td>...</td>\n",
       "      <td>...</td>\n",
       "      <td>...</td>\n",
       "      <td>...</td>\n",
       "      <td>...</td>\n",
       "      <td>...</td>\n",
       "      <td>...</td>\n",
       "      <td>...</td>\n",
       "      <td>...</td>\n",
       "    </tr>\n",
       "    <tr>\n",
       "      <th rowspan=\"5\" valign=\"top\">MSFT</th>\n",
       "      <th>2019-12-24 00:00:00+00:00</th>\n",
       "      <td>157.38</td>\n",
       "      <td>157.71</td>\n",
       "      <td>157.1200</td>\n",
       "      <td>157.48</td>\n",
       "      <td>8989150</td>\n",
       "      <td>155.373423</td>\n",
       "      <td>155.699215</td>\n",
       "      <td>155.116738</td>\n",
       "      <td>155.472148</td>\n",
       "      <td>8989150</td>\n",
       "      <td>0.0</td>\n",
       "      <td>1.0</td>\n",
       "    </tr>\n",
       "    <tr>\n",
       "      <th>2019-12-26 00:00:00+00:00</th>\n",
       "      <td>158.67</td>\n",
       "      <td>158.73</td>\n",
       "      <td>157.4000</td>\n",
       "      <td>157.56</td>\n",
       "      <td>14526927</td>\n",
       "      <td>156.646975</td>\n",
       "      <td>156.706210</td>\n",
       "      <td>155.393168</td>\n",
       "      <td>155.551128</td>\n",
       "      <td>14526927</td>\n",
       "      <td>0.0</td>\n",
       "      <td>1.0</td>\n",
       "    </tr>\n",
       "    <tr>\n",
       "      <th>2019-12-27 00:00:00+00:00</th>\n",
       "      <td>158.96</td>\n",
       "      <td>159.55</td>\n",
       "      <td>158.2200</td>\n",
       "      <td>159.45</td>\n",
       "      <td>18414352</td>\n",
       "      <td>156.933278</td>\n",
       "      <td>157.515756</td>\n",
       "      <td>156.202713</td>\n",
       "      <td>157.417031</td>\n",
       "      <td>18414352</td>\n",
       "      <td>0.0</td>\n",
       "      <td>1.0</td>\n",
       "    </tr>\n",
       "    <tr>\n",
       "      <th>2019-12-30 00:00:00+00:00</th>\n",
       "      <td>157.59</td>\n",
       "      <td>159.02</td>\n",
       "      <td>156.7300</td>\n",
       "      <td>158.99</td>\n",
       "      <td>16356720</td>\n",
       "      <td>155.580745</td>\n",
       "      <td>156.992513</td>\n",
       "      <td>154.731710</td>\n",
       "      <td>156.962895</td>\n",
       "      <td>16356720</td>\n",
       "      <td>0.0</td>\n",
       "      <td>1.0</td>\n",
       "    </tr>\n",
       "    <tr>\n",
       "      <th>2019-12-31 00:00:00+00:00</th>\n",
       "      <td>157.70</td>\n",
       "      <td>157.77</td>\n",
       "      <td>156.4500</td>\n",
       "      <td>156.77</td>\n",
       "      <td>18393383</td>\n",
       "      <td>155.689343</td>\n",
       "      <td>155.758450</td>\n",
       "      <td>154.455280</td>\n",
       "      <td>154.771200</td>\n",
       "      <td>18393383</td>\n",
       "      <td>0.0</td>\n",
       "      <td>1.0</td>\n",
       "    </tr>\n",
       "  </tbody>\n",
       "</table>\n",
       "<p>2516 rows × 12 columns</p>\n",
       "</div>"
      ],
      "text/plain": [
       "                                   close    high       low    open    volume  \\\n",
       "symbol date                                                                    \n",
       "EXEL   2015-01-02 00:00:00+00:00    1.65    1.70    1.4600    1.47   5256481   \n",
       "       2015-01-05 00:00:00+00:00    1.63    1.70    1.5435    1.67   2290484   \n",
       "       2015-01-06 00:00:00+00:00    1.58    1.64    1.5600    1.64   1687215   \n",
       "       2015-01-07 00:00:00+00:00    1.63    1.63    1.5950    1.60   1407375   \n",
       "       2015-01-08 00:00:00+00:00    1.79    1.98    1.6700    1.67   9785422   \n",
       "...                                  ...     ...       ...     ...       ...   \n",
       "MSFT   2019-12-24 00:00:00+00:00  157.38  157.71  157.1200  157.48   8989150   \n",
       "       2019-12-26 00:00:00+00:00  158.67  158.73  157.4000  157.56  14526927   \n",
       "       2019-12-27 00:00:00+00:00  158.96  159.55  158.2200  159.45  18414352   \n",
       "       2019-12-30 00:00:00+00:00  157.59  159.02  156.7300  158.99  16356720   \n",
       "       2019-12-31 00:00:00+00:00  157.70  157.77  156.4500  156.77  18393383   \n",
       "\n",
       "                                    adjClose     adjHigh      adjLow  \\\n",
       "symbol date                                                            \n",
       "EXEL   2015-01-02 00:00:00+00:00    1.650000    1.700000    1.460000   \n",
       "       2015-01-05 00:00:00+00:00    1.630000    1.700000    1.543500   \n",
       "       2015-01-06 00:00:00+00:00    1.580000    1.640000    1.560000   \n",
       "       2015-01-07 00:00:00+00:00    1.630000    1.630000    1.595000   \n",
       "       2015-01-08 00:00:00+00:00    1.790000    1.980000    1.670000   \n",
       "...                                      ...         ...         ...   \n",
       "MSFT   2019-12-24 00:00:00+00:00  155.373423  155.699215  155.116738   \n",
       "       2019-12-26 00:00:00+00:00  156.646975  156.706210  155.393168   \n",
       "       2019-12-27 00:00:00+00:00  156.933278  157.515756  156.202713   \n",
       "       2019-12-30 00:00:00+00:00  155.580745  156.992513  154.731710   \n",
       "       2019-12-31 00:00:00+00:00  155.689343  155.758450  154.455280   \n",
       "\n",
       "                                     adjOpen  adjVolume  divCash  splitFactor  \n",
       "symbol date                                                                    \n",
       "EXEL   2015-01-02 00:00:00+00:00    1.470000    5256481      0.0          1.0  \n",
       "       2015-01-05 00:00:00+00:00    1.670000    2290484      0.0          1.0  \n",
       "       2015-01-06 00:00:00+00:00    1.640000    1687215      0.0          1.0  \n",
       "       2015-01-07 00:00:00+00:00    1.600000    1407375      0.0          1.0  \n",
       "       2015-01-08 00:00:00+00:00    1.670000    9785422      0.0          1.0  \n",
       "...                                      ...        ...      ...          ...  \n",
       "MSFT   2019-12-24 00:00:00+00:00  155.472148    8989150      0.0          1.0  \n",
       "       2019-12-26 00:00:00+00:00  155.551128   14526927      0.0          1.0  \n",
       "       2019-12-27 00:00:00+00:00  157.417031   18414352      0.0          1.0  \n",
       "       2019-12-30 00:00:00+00:00  156.962895   16356720      0.0          1.0  \n",
       "       2019-12-31 00:00:00+00:00  154.771200   18393383      0.0          1.0  \n",
       "\n",
       "[2516 rows x 12 columns]"
      ]
     },
     "execution_count": 46,
     "metadata": {},
     "output_type": "execute_result"
    }
   ],
   "source": [
    "##  axis=0 is better; I won't end up with a dataframe full of NaNs!!\n",
    "\n",
    "df_test4_hist_data=pd.concat(test4_hist_data_list, axis=0)\n",
    "df_test4_hist_data"
   ]
  },
  {
   "cell_type": "code",
   "execution_count": null,
   "metadata": {},
   "outputs": [],
   "source": []
  },
  {
   "cell_type": "code",
   "execution_count": null,
   "metadata": {},
   "outputs": [],
   "source": []
  },
  {
   "cell_type": "code",
   "execution_count": 159,
   "metadata": {},
   "outputs": [
    {
     "name": "stdout",
     "output_type": "stream",
     "text": [
      "KeyError  'date'\n",
      "KeyError  'date'\n"
     ]
    }
   ],
   "source": [
    "###I ran this earlier. I will copy-paste it above to run with the new list of ticker symbols.\n",
    "\n",
    "#If I can pass in the list of ticker symbols stock_tickers, then I can have\n",
    "#the pandas datareader download the closing prices for 5 years of the biotech \n",
    "#and pharma stocks in my list. Then save it to a csv file.\n",
    "#stock_tickers\n",
    "pharma_2015_2020_hist_data_list=[]\n",
    "#use the list pre_2015_ipo_symbols from above. Get the data for each ticker symbol(this will be a pandas series),\n",
    "#and append it to the list.\n",
    "for ticker in pre_2015_ipo_symbols:\n",
    "    try:\n",
    "        ticker_prices = pdr.get_data_tiingo(ticker, start='2015-01-01', end='2020-01-01', \n",
    "                                           pause=0.2, api_key='307d0cd85ac1760c0dc887e433b4673cc352d8a1')['adjClose']\n",
    "        pharma_2015_2020_hist_data_list.append(ticker_prices)\n",
    "    except KeyError as ke:\n",
    "        print('KeyError ', ke)\n",
    "        \n",
    "\n",
    "#Concatenate the list of series into a dataframe\n",
    "df_2015_2020_hist_data=pd.concat(pharma_2015_2020_hist_data_list, axis=1)\n",
    "\n",
    "#save the resulting dataframe to a csv file\n",
    "df_2015_2020_hist_data.to_csv('df_pharma_2015_2020_hist_data.csv')"
   ]
  },
  {
   "cell_type": "code",
   "execution_count": null,
   "metadata": {},
   "outputs": [],
   "source": []
  },
  {
   "cell_type": "code",
   "execution_count": null,
   "metadata": {},
   "outputs": [],
   "source": []
  },
  {
   "cell_type": "code",
   "execution_count": null,
   "metadata": {},
   "outputs": [],
   "source": []
  },
  {
   "cell_type": "code",
   "execution_count": null,
   "metadata": {},
   "outputs": [],
   "source": []
  },
  {
   "cell_type": "code",
   "execution_count": 17,
   "metadata": {
    "scrolled": false
   },
   "outputs": [
    {
     "name": "stderr",
     "output_type": "stream",
     "text": [
      "/Users/amysillman/opt/anaconda3/lib/python3.7/site-packages/ipykernel_launcher.py:1: FutureWarning: The signature of `Series.to_csv` was aligned to that of `DataFrame.to_csv`, and argument 'header' will change its default value from False to True: please pass an explicit value to suppress this warning.\n",
      "  \"\"\"Entry point for launching an IPython kernel.\n"
     ]
    }
   ],
   "source": [
    "df_test.to_csv('df_test.csv')"
   ]
  },
  {
   "cell_type": "code",
   "execution_count": null,
   "metadata": {},
   "outputs": [],
   "source": [
    "# TIINGO API - REQUEST DATA\n",
    "# https://www.tiingo.com\n",
    "\n",
    "#auth_token = r'307d0cd85ac1760c0dc887e433b4673cc352d8a1'\n"
   ]
  },
  {
   "cell_type": "code",
   "execution_count": null,
   "metadata": {},
   "outputs": [],
   "source": []
  },
  {
   "cell_type": "code",
   "execution_count": null,
   "metadata": {},
   "outputs": [],
   "source": []
  },
  {
   "cell_type": "code",
   "execution_count": null,
   "metadata": {},
   "outputs": [],
   "source": []
  },
  {
   "cell_type": "code",
   "execution_count": null,
   "metadata": {},
   "outputs": [],
   "source": []
  },
  {
   "cell_type": "code",
   "execution_count": 9,
   "metadata": {},
   "outputs": [],
   "source": []
  },
  {
   "cell_type": "code",
   "execution_count": null,
   "metadata": {},
   "outputs": [],
   "source": [
    "price_list=[]\n",
    "for ticker in stock_tickers:\n",
    "    \n",
    "    #get request\n",
    "    response = get(\"https://api.tiingo.com/tiingo/daily/\"\n",
    "                   + ticker\n",
    "                   +\"/prices?startDate=2015-1-1&endDate=2020-1-1\")\n",
    "    #price_list.append(response)\n",
    "\n",
    "    #sleep(randint(1,5))\n",
    "    \n",
    "     "
   ]
  },
  {
   "cell_type": "code",
   "execution_count": 10,
   "metadata": {},
   "outputs": [
    {
     "name": "stdout",
     "output_type": "stream",
     "text": [
      "<Response [401]>\n"
     ]
    }
   ],
   "source": [
    "#price_list=[]\n",
    "#for ticker in stock_tickers:\n",
    "    \n",
    "    #get request\n",
    "response = get(\"https://api.tiingo.com/tiingo/daily/EXEL/prices?startDate=2015-1-1&endDate=2020-1-1\")\n",
    "    #price_list.append(response)\n",
    "print(response)\n",
    "    #sleep(randint(1,5))"
   ]
  },
  {
   "cell_type": "code",
   "execution_count": 11,
   "metadata": {},
   "outputs": [
    {
     "name": "stdout",
     "output_type": "stream",
     "text": [
      "<Response [401]>\n"
     ]
    }
   ],
   "source": [
    "response=get(\"https://api.tiingo.com/tiingo/daily/EXEL/prices?startDate=2015-1-1&endDate=2020-1-1&format=csv&resampleFreq=monthly\")\n",
    "print(response)"
   ]
  },
  {
   "cell_type": "code",
   "execution_count": null,
   "metadata": {},
   "outputs": [],
   "source": []
  },
  {
   "cell_type": "code",
   "execution_count": null,
   "metadata": {},
   "outputs": [],
   "source": []
  },
  {
   "cell_type": "code",
   "execution_count": null,
   "metadata": {},
   "outputs": [],
   "source": []
  }
 ],
 "metadata": {
  "kernelspec": {
   "display_name": "Python 3",
   "language": "python",
   "name": "python3"
  },
  "language_info": {
   "codemirror_mode": {
    "name": "ipython",
    "version": 3
   },
   "file_extension": ".py",
   "mimetype": "text/x-python",
   "name": "python",
   "nbconvert_exporter": "python",
   "pygments_lexer": "ipython3",
   "version": "3.7.4"
  }
 },
 "nbformat": 4,
 "nbformat_minor": 5
}
